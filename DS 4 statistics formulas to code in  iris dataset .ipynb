{
 "cells": [
  {
   "cell_type": "markdown",
   "id": "08ab74c0",
   "metadata": {},
   "source": [
    "# pip install pyforest and importing pyforest"
   ]
  },
  {
   "cell_type": "code",
   "execution_count": null,
   "id": "cb36a5ff",
   "metadata": {},
   "outputs": [],
   "source": [
    "!pip install pyforest\n",
    "import pyforest"
   ]
  },
  {
   "cell_type": "markdown",
   "id": "6563cbe0",
   "metadata": {},
   "source": [
    "# load iris dataset"
   ]
  },
  {
   "cell_type": "code",
   "execution_count": null,
   "id": "ffd93588",
   "metadata": {},
   "outputs": [],
   "source": [
    "data_frame=pd.read_csv(\"Iris.csv\")"
   ]
  },
  {
   "cell_type": "code",
   "execution_count": null,
   "id": "596aab1f",
   "metadata": {},
   "outputs": [],
   "source": [
    "data_frame"
   ]
  },
  {
   "cell_type": "markdown",
   "id": "18382b60",
   "metadata": {},
   "source": [
    "# show dataset head by using\n",
    "# data_frame.head()  function"
   ]
  },
  {
   "cell_type": "code",
   "execution_count": null,
   "id": "f7a6aeb9",
   "metadata": {},
   "outputs": [],
   "source": [
    "data_frame.head()\n",
    "\n"
   ]
  },
  {
   "cell_type": "markdown",
   "id": "1044d695",
   "metadata": {},
   "source": [
    "# remove the Id column by using data_frame.drop([\"Column\"],axis='columns',inplace=True)"
   ]
  },
  {
   "cell_type": "code",
   "execution_count": null,
   "id": "3dd40110",
   "metadata": {},
   "outputs": [],
   "source": [
    "data_frame.drop([\"Id\"],axis='columns',inplace=True)"
   ]
  },
  {
   "cell_type": "code",
   "execution_count": null,
   "id": "f8517176",
   "metadata": {},
   "outputs": [],
   "source": [
    "data_frame.columns"
   ]
  },
  {
   "cell_type": "markdown",
   "id": "bd389c66",
   "metadata": {},
   "source": [
    "# rename the column name by using function \n",
    "# data_frame.rename(column{'actual name':'rename'},inplace=True)"
   ]
  },
  {
   "cell_type": "code",
   "execution_count": null,
   "id": "963e5445",
   "metadata": {},
   "outputs": [],
   "source": [
    "data_frame.rename(columns={'SepalLengthCm':'SepalLength','SepalWidthCm':'SepalWidth','PetalLengthCm':'PetalLength','PetalWidthCm':'PetalWidth'},inplace=True)"
   ]
  },
  {
   "cell_type": "markdown",
   "id": "249913b2",
   "metadata": {},
   "source": [
    "# show dataframe"
   ]
  },
  {
   "cell_type": "code",
   "execution_count": null,
   "id": "19a17959",
   "metadata": {},
   "outputs": [],
   "source": [
    "data_frame"
   ]
  },
  {
   "cell_type": "markdown",
   "id": "71b5c342",
   "metadata": {},
   "source": [
    "# calculate the count values in the dataset by  using \n",
    "# data_frame.count() method\n"
   ]
  },
  {
   "cell_type": "code",
   "execution_count": null,
   "id": "0bda3be3",
   "metadata": {},
   "outputs": [],
   "source": [
    "data_frame.count()"
   ]
  },
  {
   "cell_type": "markdown",
   "id": "00d3d8f6",
   "metadata": {},
   "source": [
    " # calculate the mean values at particular columns  in the dataset by using data_frame[\"Column name\"].mean() method"
   ]
  },
  {
   "cell_type": "code",
   "execution_count": null,
   "id": "7c838aa5",
   "metadata": {},
   "outputs": [],
   "source": [
    "data_frame[\"SepalLength\"].mean()"
   ]
  },
  {
   "cell_type": "code",
   "execution_count": null,
   "id": "61e3e640",
   "metadata": {},
   "outputs": [],
   "source": [
    "data_frame[\"SepalWidth\"].mean()"
   ]
  },
  {
   "cell_type": "code",
   "execution_count": null,
   "id": "4347f72a",
   "metadata": {},
   "outputs": [],
   "source": [
    "data_frame[\"PetalLength\"].mean()"
   ]
  },
  {
   "cell_type": "code",
   "execution_count": null,
   "id": "d5026755",
   "metadata": {},
   "outputs": [],
   "source": [
    "data_frame[\"PetalWidth\"].mean()"
   ]
  },
  {
   "cell_type": "markdown",
   "id": "8997ce44",
   "metadata": {},
   "source": [
    "# calculate the median values at particular columns in the dataset by using data_frame[\"Column name\"].median() method"
   ]
  },
  {
   "cell_type": "code",
   "execution_count": null,
   "id": "fdfea69b",
   "metadata": {},
   "outputs": [],
   "source": [
    "data_frame[\"SepalLength\"].median()"
   ]
  },
  {
   "cell_type": "code",
   "execution_count": null,
   "id": "ac1ade61",
   "metadata": {},
   "outputs": [],
   "source": [
    "data_frame[\"SepalWidth\"].median()"
   ]
  },
  {
   "cell_type": "code",
   "execution_count": null,
   "id": "b762ef17",
   "metadata": {},
   "outputs": [],
   "source": [
    "data_frame[\"PetalLength\"].median()"
   ]
  },
  {
   "cell_type": "code",
   "execution_count": null,
   "id": "b84988c8",
   "metadata": {},
   "outputs": [],
   "source": [
    "data_frame[\"PetalLength\"].median()"
   ]
  },
  {
   "cell_type": "markdown",
   "id": "722059b5",
   "metadata": {},
   "source": [
    "# calculate the mode values at particular columns in the dataset by using data_frame[\"Column name\"].mode() method"
   ]
  },
  {
   "cell_type": "code",
   "execution_count": null,
   "id": "ad0caa6c",
   "metadata": {},
   "outputs": [],
   "source": [
    "data_frame.SepalLength.mode()"
   ]
  },
  {
   "cell_type": "code",
   "execution_count": null,
   "id": "dff12209",
   "metadata": {},
   "outputs": [],
   "source": [
    "data_frame.SepalWidth.mode()"
   ]
  },
  {
   "cell_type": "code",
   "execution_count": null,
   "id": "4cb1e1d0",
   "metadata": {},
   "outputs": [],
   "source": [
    "data_frame.PetalLength.mode()"
   ]
  },
  {
   "cell_type": "code",
   "execution_count": null,
   "id": "5fb09b0d",
   "metadata": {},
   "outputs": [],
   "source": [
    "data_frame.PetalWidth.mode()"
   ]
  },
  {
   "cell_type": "markdown",
   "id": "1732a847",
   "metadata": {},
   "source": [
    "# calculate standard deviation of particular colomns in dataset by using \n",
    "# data_frame[\"Column name\"].std() method"
   ]
  },
  {
   "cell_type": "code",
   "execution_count": null,
   "id": "76312533",
   "metadata": {},
   "outputs": [],
   "source": [
    "data_frame[\"SepalLength\"].std()"
   ]
  },
  {
   "cell_type": "code",
   "execution_count": null,
   "id": "90b582f8",
   "metadata": {},
   "outputs": [],
   "source": [
    "data_frame[\"SepalWidth\"].std()"
   ]
  },
  {
   "cell_type": "code",
   "execution_count": null,
   "id": "17e27042",
   "metadata": {},
   "outputs": [],
   "source": [
    "data_frame[\"PetalLength\"].std()"
   ]
  },
  {
   "cell_type": "code",
   "execution_count": null,
   "id": "0f3b3878",
   "metadata": {},
   "outputs": [],
   "source": [
    "data_frame[\"PetalWidth\"].std()"
   ]
  },
  {
   "cell_type": "markdown",
   "id": "dff5e095",
   "metadata": {},
   "source": [
    "# calculate the maximum values in dataset at all columns by using \n",
    "# data_frame.max()  method"
   ]
  },
  {
   "cell_type": "code",
   "execution_count": null,
   "id": "d797d574",
   "metadata": {},
   "outputs": [],
   "source": [
    "data_frame.max()"
   ]
  },
  {
   "cell_type": "markdown",
   "id": "c6581026",
   "metadata": {},
   "source": [
    "# calculate the miniimum values in dataset at all columns by using \n",
    "# data_frame.min()  method"
   ]
  },
  {
   "cell_type": "code",
   "execution_count": null,
   "id": "b82830e7",
   "metadata": {},
   "outputs": [],
   "source": [
    "data_frame.min()"
   ]
  },
  {
   "cell_type": "markdown",
   "id": "49e13b76",
   "metadata": {},
   "source": [
    "# calculate  variance values of particular colomns in dataset by using \n",
    "# data_frame[\"Column name\"].var() method"
   ]
  },
  {
   "cell_type": "code",
   "execution_count": null,
   "id": "a48e1502",
   "metadata": {},
   "outputs": [],
   "source": [
    "data_frame[\"SepalLength\"].var()"
   ]
  },
  {
   "cell_type": "code",
   "execution_count": null,
   "id": "32f5264c",
   "metadata": {},
   "outputs": [],
   "source": [
    "data_frame[\"SepalWidth\"].var()"
   ]
  },
  {
   "cell_type": "code",
   "execution_count": null,
   "id": "01f893e8",
   "metadata": {},
   "outputs": [],
   "source": [
    "data_frame[\"PetalLength\"].var()"
   ]
  },
  {
   "cell_type": "code",
   "execution_count": null,
   "id": "bc7c5707",
   "metadata": {},
   "outputs": [],
   "source": [
    "data_frame[\"PetalWidth\"].var()"
   ]
  },
  {
   "cell_type": "markdown",
   "id": "83f2a259",
   "metadata": {},
   "source": [
    "# calculate the correlation values in the dataset by using  \n",
    "# dataframe.corr() method"
   ]
  },
  {
   "cell_type": "code",
   "execution_count": null,
   "id": "5c452065",
   "metadata": {},
   "outputs": [],
   "source": [
    "data_frame.corr()"
   ]
  },
  {
   "cell_type": "code",
   "execution_count": null,
   "id": "4db487e3",
   "metadata": {},
   "outputs": [],
   "source": [
    "!pip install pingouin\n",
    "import pingouin as pg"
   ]
  },
  {
   "cell_type": "markdown",
   "id": "07c7ed0c",
   "metadata": {},
   "source": [
    "# calculate the partial correlation by using\n",
    "# pg.partial_corr(data_frame,col1,'col2')"
   ]
  },
  {
   "cell_type": "code",
   "execution_count": null,
   "id": "9b4ad97b",
   "metadata": {},
   "outputs": [],
   "source": [
    "pcorr=pg.partial_corr(data_frame,'SepalLength','SepalWidth')\n",
    "pcorr"
   ]
  },
  {
   "cell_type": "code",
   "execution_count": null,
   "id": "80c3434c",
   "metadata": {},
   "outputs": [],
   "source": [
    "pcorr=pg.partial_corr(data_frame,'PetalLength','PetalWidth')\n",
    "pcorr"
   ]
  },
  {
   "cell_type": "code",
   "execution_count": null,
   "id": "8420edb7",
   "metadata": {},
   "outputs": [],
   "source": []
  }
 ],
 "metadata": {
  "kernelspec": {
   "display_name": "Python 3",
   "language": "python",
   "name": "python3"
  },
  "language_info": {
   "codemirror_mode": {
    "name": "ipython",
    "version": 3
   },
   "file_extension": ".py",
   "mimetype": "text/x-python",
   "name": "python",
   "nbconvert_exporter": "python",
   "pygments_lexer": "ipython3",
   "version": "3.8.8"
  }
 },
 "nbformat": 4,
 "nbformat_minor": 5
}
